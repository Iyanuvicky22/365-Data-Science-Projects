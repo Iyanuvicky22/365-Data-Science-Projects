{
  "cells": [
    {
      "cell_type": "markdown",
      "metadata": {
        "id": "view-in-github",
        "colab_type": "text"
      },
      "source": [
        "<a href=\"https://colab.research.google.com/github/Iyanuvicky22/365-Data-Science-Projects/blob/main/The_Game_of_Life.ipynb\" target=\"_parent\"><img src=\"https://colab.research.google.com/assets/colab-badge.svg\" alt=\"Open In Colab\"/></a>"
      ]
    },
    {
      "cell_type": "code",
      "execution_count": null,
      "id": "6faece17",
      "metadata": {
        "id": "6faece17"
      },
      "outputs": [],
      "source": [
        "class GameOfLife(object):\n",
        "\n",
        "\n",
        "\n",
        "\n",
        "    def __init__(self, x_dim, y_dim):\n",
        "        \"\"\"\n",
        "        Defines the dimensions of the game of life 2D grid.\n",
        "\n",
        "        Args:\n",
        "          x_dim: An integer representing the x axis.\n",
        "          y_dim: An integer representing the y axis.\n",
        "\n",
        "        Defines:\n",
        "          life_grid: Creates a 2D grid from the axes.\n",
        "\n",
        "        \"\"\"\n",
        "        # print(self.life_grid)\n",
        "        # Initialize a 2D list with dimensions x_dim by y_dim filled with zeros.\n",
        "\n",
        "        self.x_dim = x_dim\n",
        "        self.y_dim = y_dim\n",
        "        self.life_grid = [[0 for _ in range(self.x_dim)] for _ in range(self.y_dim)]\n",
        "\n",
        "\n",
        "\n",
        "    def get_grid(self):\n",
        "        \"\"\"\n",
        "        Creates a getter method to return the created 2D grid.\n",
        "\n",
        "        Returns: The created 2D grid.\n",
        "\n",
        "        \"\"\"\n",
        "        # Implement a getter method for your grid.\n",
        "        return self.life_grid\n",
        "\n",
        "\n",
        "    def print_grid(self):\n",
        "        \"\"\"\n",
        "        Creates a method to print the 2D grid in a human-readable format.\n",
        "\n",
        "        Have fun!!\n",
        "\n",
        "        \"\"\"\n",
        "        # Implement a method to print out your grid in a human-readable format.\n",
        "        # for i in range(self.x_dim):\n",
        "        #   for j in range(self.y_dim):\n",
        "        for row in self.life_grid:\n",
        "          for cell in row:\n",
        "            print(cell, '|', end = ' ')\n",
        "            # print(self.life_grid[i][j],  '|', end = ' ')\n",
        "          print(f\"\\n{'- - ' * len(row)}\")\n",
        "          # print('\\n- - - - - -\\n')\n",
        "          # print('- - ' * self.x_dim, end = ' ')\n",
        "\n",
        "\n",
        "    def populate_grid(self, coord):\n",
        "        \"\"\"\n",
        "        Populates the game gris with live cells at the specified coordinates.\n",
        "\n",
        "        Args:\n",
        "          coord: a list of tuples. Each tuple represents the (x,y) coordinates of a live cell.\n",
        "\n",
        "        Returns:\n",
        "        The updated life_grid with the new live cells.\n",
        "\n",
        "        \"\"\"\n",
        "\n",
        "        # Given a list of 2D coordinates (represented as tuples/lists with 2 elements each),\n",
        "        # set the corresponding elements in your grid to 1.\n",
        "        # self.coord = coord\n",
        "        for i in coord:\n",
        "          self.life_grid[i[0]][i[1]] = 1\n",
        "        return self.life_grid\n",
        "\n",
        "\n",
        "    def make_step(self):\n",
        "        \"\"\"\n",
        "        Implement a method/logic to make a step in the game of life using the games rules and logic.\n",
        "\n",
        "        Returns: An updated life_grid that a step has been made in.\n",
        "\n",
        "        \"\"\"\n",
        "        # Implement the logic to update the game state according to the rules of\n",
        "        # Conway's Game of Life.\n",
        "        sum_grid = [[0 for _ in range(self.x_dim)] for _ in range(self.y_dim)]\n",
        "\n",
        "        for i in range(self.x_dim):\n",
        "          for j in range(self.y_dim):\n",
        "            neigbours = [(i-1, j-1), (i, j-1), (i+1, j-1), (i-1, j), (i+1, j), (i-1, j+1), (i, j+1), (i+1, j+1)]\n",
        "            # print(neigbours)\n",
        "            # rows, cols = len(self.life_grid), len(self.life_grid[0])\n",
        "            sum = 0\n",
        "            for pos in neigbours:\n",
        "              a,b = pos\n",
        "              if not((0 <= a < self.x_dim) and (0 <= b < self.y_dim)):\n",
        "                # print(a,b)\n",
        "                continue\n",
        "              # print('Adele:', a,b)\n",
        "              sum += self.life_grid[a][b]\n",
        "            # print(sum)\n",
        "            sum_grid[i][j] = sum\n",
        "        print(self.life_grid)\n",
        "        for i in range(self.x_dim):\n",
        "          for j in range(self.y_dim):\n",
        "            if self.life_grid[i][j] == 1 and sum_grid[i][j] < 2:\n",
        "              self.life_grid[i][j] = 0\n",
        "              # print('Condition 1')\n",
        "            elif self.life_grid[i][j] == 1 and sum_grid[i][j] in (2,3):\n",
        "              self.life_grid[i][j] = 1\n",
        "              # print('Condition 2')\n",
        "            elif self.life_grid[i][j] == 1 and sum_grid[i][j] > 3:\n",
        "              self.life_grid[i][j] = 0\n",
        "              # print('Condition 3')\n",
        "            elif self.life_grid[i][j] == 0 and sum_grid[i][j] == 3:\n",
        "              self.life_grid[i][j] = 1\n",
        "              # print('Condition 4')\n",
        "        # print(self.life_grid)\n",
        "        # print(sum_grid)\n",
        "        return self.life_grid\n",
        "\n",
        "\n",
        "\n",
        "    def make_n_steps(self, n):\n",
        "        \"\"\"\n",
        "        Implements a method that allows multiple steps be made in the game of life n times.\n",
        "\n",
        "        Args:\n",
        "          n: The value of steps to be made in the game.\n",
        "\n",
        "        Returns: The life_grid that n times number of steps has been made on.\n",
        "\n",
        "        \"\"\"\n",
        "        # Implement a method that applies the make_step method n times.\n",
        "\n",
        "        for _ in range(n):\n",
        "          self.make_step()\n",
        "        return self.life_grid\n",
        "\n",
        "    def draw_grid(self):\n",
        "        \"\"\"\n",
        "        Draws the updated grid in a visually aesthetic manner.\n",
        "\n",
        "        \"\"\"\n",
        "        # Draw the current state of the grid.\n",
        "        import matplotlib.pyplot as plt\n",
        "        import seaborn as sns\n",
        "        x = []\n",
        "        y = []\n",
        "\n",
        "        for i in range(self.x_dim):\n",
        "          for j in range(self.y_dim):\n",
        "            x.append(i)\n",
        "            y.append(j)\n",
        "\n",
        "        fig, ax = plt.subplots()\n",
        "\n",
        "        ax.scatter(x,y,c=self.life_grid,s=200,\n",
        "                    marker='s', edgecolors = '000') # edgecolor gives the marker an edge color. (000 = black)\n",
        "\n",
        "        plt.xlim(-1, self.x_dim)\n",
        "        plt.ylim(-1, self.y_dim)\n",
        "\n",
        "        # w = ax.invert_xaxis()\n",
        "        z = ax.invert_yaxis()\n",
        "\n",
        "\n",
        "        plt.show()\n",
        "\n"
      ]
    },
    {
      "cell_type": "code",
      "source": [
        "c = GameOfLife(x_dim = 4, y_dim = 4)\n",
        "\n",
        "c.populate_grid(coord = [(2,1),(1,2), (2,2), (1,1), (3,3),(0,2), (2,3), (1,3), (3,1)])\n",
        "\n",
        "c.make_n_steps(10)\n",
        "\n",
        "c.draw_grid()"
      ],
      "metadata": {
        "colab": {
          "base_uri": "https://localhost:8080/",
          "height": 609
        },
        "id": "qtG9tGm14d3K",
        "outputId": "89ae7dbb-7c9a-4f78-9647-875e7781c747"
      },
      "id": "qtG9tGm14d3K",
      "execution_count": null,
      "outputs": [
        {
          "output_type": "stream",
          "name": "stdout",
          "text": [
            "[[0, 0, 1, 0], [0, 1, 1, 1], [0, 1, 1, 1], [0, 1, 0, 1]]\n",
            "[[0, 1, 1, 1], [0, 0, 0, 0], [1, 0, 0, 0], [0, 1, 0, 1]]\n",
            "[[0, 0, 1, 0], [0, 1, 1, 0], [0, 0, 0, 0], [0, 0, 0, 0]]\n",
            "[[0, 1, 1, 0], [0, 1, 1, 0], [0, 0, 0, 0], [0, 0, 0, 0]]\n",
            "[[0, 1, 1, 0], [0, 1, 1, 0], [0, 0, 0, 0], [0, 0, 0, 0]]\n",
            "[[0, 1, 1, 0], [0, 1, 1, 0], [0, 0, 0, 0], [0, 0, 0, 0]]\n",
            "[[0, 1, 1, 0], [0, 1, 1, 0], [0, 0, 0, 0], [0, 0, 0, 0]]\n",
            "[[0, 1, 1, 0], [0, 1, 1, 0], [0, 0, 0, 0], [0, 0, 0, 0]]\n",
            "[[0, 1, 1, 0], [0, 1, 1, 0], [0, 0, 0, 0], [0, 0, 0, 0]]\n",
            "[[0, 1, 1, 0], [0, 1, 1, 0], [0, 0, 0, 0], [0, 0, 0, 0]]\n"
          ]
        },
        {
          "output_type": "display_data",
          "data": {
            "text/plain": [
              "<Figure size 640x480 with 1 Axes>"
            ],
            "image/png": "[encoded data removed]"
          },
          "metadata": {}
        }
      ]
    },
    {
      "cell_type": "code",
      "source": [
        "c = GameOfLife(x_dim = 30, y_dim = 30)\n",
        "\n",
        "c.populate_grid(coord = [(14, 16), (15, 16), (16, 16), (18, 16), (19, 16), (20, 16),\n",
        "(16, 14), (16, 15), (16, 17), (16, 18),\n",
        "(18, 14), (18, 15), (18, 17), (18, 18),\n",
        "(14, 18), (15, 18), (16, 18), (18, 18), (19, 18), (20, 18)])\n",
        "c.make_n_steps(2)\n",
        "\n",
        "c.draw_grid()"
      ],
      "metadata": {
        "colab": {
          "base_uri": "https://localhost:8080/",
          "height": 485
        },
        "id": "-me9hgaEv_L9",
        "outputId": "52833ec5-d7f2-495e-e946-eaaed3bccf80"
      },
      "id": "-me9hgaEv_L9",
      "execution_count": null,
      "outputs": [
        {
          "output_type": "stream",
          "name": "stdout",
          "text": [
            "[[0, 0, 0, 0, 0, 0, 0, 0, 0, 0, 0, 0, 0, 0, 0, 0, 0, 0, 0, 0, 0, 0, 0, 0, 0, 0, 0, 0, 0, 0], [0, 0, 0, 0, 0, 0, 0, 0, 0, 0, 0, 0, 0, 0, 0, 0, 0, 0, 0, 0, 0, 0, 0, 0, 0, 0, 0, 0, 0, 0], [0, 0, 0, 0, 0, 0, 0, 0, 0, 0, 0, 0, 0, 0, 0, 0, 0, 0, 0, 0, 0, 0, 0, 0, 0, 0, 0, 0, 0, 0], [0, 0, 0, 0, 0, 0, 0, 0, 0, 0, 0, 0, 0, 0, 0, 0, 0, 0, 0, 0, 0, 0, 0, 0, 0, 0, 0, 0, 0, 0], [0, 0, 0, 0, 0, 0, 0, 0, 0, 0, 0, 0, 0, 0, 0, 0, 0, 0, 0, 0, 0, 0, 0, 0, 0, 0, 0, 0, 0, 0], [0, 0, 0, 0, 0, 0, 0, 0, 0, 0, 0, 0, 0, 0, 0, 0, 0, 0, 0, 0, 0, 0, 0, 0, 0, 0, 0, 0, 0, 0], [0, 0, 0, 0, 0, 0, 0, 0, 0, 0, 0, 0, 0, 0, 0, 0, 0, 0, 0, 0, 0, 0, 0, 0, 0, 0, 0, 0, 0, 0], [0, 0, 0, 0, 0, 0, 0, 0, 0, 0, 0, 0, 0, 0, 0, 0, 0, 0, 0, 0, 0, 0, 0, 0, 0, 0, 0, 0, 0, 0], [0, 0, 0, 0, 0, 0, 0, 0, 0, 0, 0, 0, 0, 0, 0, 0, 0, 0, 0, 0, 0, 0, 0, 0, 0, 0, 0, 0, 0, 0], [0, 0, 0, 0, 0, 0, 0, 0, 0, 0, 0, 0, 0, 0, 0, 0, 0, 0, 0, 0, 0, 0, 0, 0, 0, 0, 0, 0, 0, 0], [0, 0, 0, 0, 0, 0, 0, 0, 0, 0, 0, 0, 0, 0, 0, 0, 0, 0, 0, 0, 0, 0, 0, 0, 0, 0, 0, 0, 0, 0], [0, 0, 0, 0, 0, 0, 0, 0, 0, 0, 0, 0, 0, 0, 0, 0, 0, 0, 0, 0, 0, 0, 0, 0, 0, 0, 0, 0, 0, 0], [0, 0, 0, 0, 0, 0, 0, 0, 0, 0, 0, 0, 0, 0, 0, 0, 0, 0, 0, 0, 0, 0, 0, 0, 0, 0, 0, 0, 0, 0], [0, 0, 0, 0, 0, 0, 0, 0, 0, 0, 0, 0, 0, 0, 0, 0, 0, 0, 0, 0, 0, 0, 0, 0, 0, 0, 0, 0, 0, 0], [0, 0, 0, 0, 0, 0, 0, 0, 0, 0, 0, 0, 0, 0, 0, 0, 1, 0, 1, 0, 0, 0, 0, 0, 0, 0, 0, 0, 0, 0], [0, 0, 0, 0, 0, 0, 0, 0, 0, 0, 0, 0, 0, 0, 0, 0, 1, 0, 1, 0, 0, 0, 0, 0, 0, 0, 0, 0, 0, 0], [0, 0, 0, 0, 0, 0, 0, 0, 0, 0, 0, 0, 0, 0, 1, 1, 1, 1, 1, 0, 0, 0, 0, 0, 0, 0, 0, 0, 0, 0], [0, 0, 0, 0, 0, 0, 0, 0, 0, 0, 0, 0, 0, 0, 0, 0, 0, 0, 0, 0, 0, 0, 0, 0, 0, 0, 0, 0, 0, 0], [0, 0, 0, 0, 0, 0, 0, 0, 0, 0, 0, 0, 0, 0, 1, 1, 1, 1, 1, 0, 0, 0, 0, 0, 0, 0, 0, 0, 0, 0], [0, 0, 0, 0, 0, 0, 0, 0, 0, 0, 0, 0, 0, 0, 0, 0, 1, 0, 1, 0, 0, 0, 0, 0, 0, 0, 0, 0, 0, 0], [0, 0, 0, 0, 0, 0, 0, 0, 0, 0, 0, 0, 0, 0, 0, 0, 1, 0, 1, 0, 0, 0, 0, 0, 0, 0, 0, 0, 0, 0], [0, 0, 0, 0, 0, 0, 0, 0, 0, 0, 0, 0, 0, 0, 0, 0, 0, 0, 0, 0, 0, 0, 0, 0, 0, 0, 0, 0, 0, 0], [0, 0, 0, 0, 0, 0, 0, 0, 0, 0, 0, 0, 0, 0, 0, 0, 0, 0, 0, 0, 0, 0, 0, 0, 0, 0, 0, 0, 0, 0], [0, 0, 0, 0, 0, 0, 0, 0, 0, 0, 0, 0, 0, 0, 0, 0, 0, 0, 0, 0, 0, 0, 0, 0, 0, 0, 0, 0, 0, 0], [0, 0, 0, 0, 0, 0, 0, 0, 0, 0, 0, 0, 0, 0, 0, 0, 0, 0, 0, 0, 0, 0, 0, 0, 0, 0, 0, 0, 0, 0], [0, 0, 0, 0, 0, 0, 0, 0, 0, 0, 0, 0, 0, 0, 0, 0, 0, 0, 0, 0, 0, 0, 0, 0, 0, 0, 0, 0, 0, 0], [0, 0, 0, 0, 0, 0, 0, 0, 0, 0, 0, 0, 0, 0, 0, 0, 0, 0, 0, 0, 0, 0, 0, 0, 0, 0, 0, 0, 0, 0], [0, 0, 0, 0, 0, 0, 0, 0, 0, 0, 0, 0, 0, 0, 0, 0, 0, 0, 0, 0, 0, 0, 0, 0, 0, 0, 0, 0, 0, 0], [0, 0, 0, 0, 0, 0, 0, 0, 0, 0, 0, 0, 0, 0, 0, 0, 0, 0, 0, 0, 0, 0, 0, 0, 0, 0, 0, 0, 0, 0], [0, 0, 0, 0, 0, 0, 0, 0, 0, 0, 0, 0, 0, 0, 0, 0, 0, 0, 0, 0, 0, 0, 0, 0, 0, 0, 0, 0, 0, 0]]\n",
            "[[0, 0, 0, 0, 0, 0, 0, 0, 0, 0, 0, 0, 0, 0, 0, 0, 0, 0, 0, 0, 0, 0, 0, 0, 0, 0, 0, 0, 0, 0], [0, 0, 0, 0, 0, 0, 0, 0, 0, 0, 0, 0, 0, 0, 0, 0, 0, 0, 0, 0, 0, 0, 0, 0, 0, 0, 0, 0, 0, 0], [0, 0, 0, 0, 0, 0, 0, 0, 0, 0, 0, 0, 0, 0, 0, 0, 0, 0, 0, 0, 0, 0, 0, 0, 0, 0, 0, 0, 0, 0], [0, 0, 0, 0, 0, 0, 0, 0, 0, 0, 0, 0, 0, 0, 0, 0, 0, 0, 0, 0, 0, 0, 0, 0, 0, 0, 0, 0, 0, 0], [0, 0, 0, 0, 0, 0, 0, 0, 0, 0, 0, 0, 0, 0, 0, 0, 0, 0, 0, 0, 0, 0, 0, 0, 0, 0, 0, 0, 0, 0], [0, 0, 0, 0, 0, 0, 0, 0, 0, 0, 0, 0, 0, 0, 0, 0, 0, 0, 0, 0, 0, 0, 0, 0, 0, 0, 0, 0, 0, 0], [0, 0, 0, 0, 0, 0, 0, 0, 0, 0, 0, 0, 0, 0, 0, 0, 0, 0, 0, 0, 0, 0, 0, 0, 0, 0, 0, 0, 0, 0], [0, 0, 0, 0, 0, 0, 0, 0, 0, 0, 0, 0, 0, 0, 0, 0, 0, 0, 0, 0, 0, 0, 0, 0, 0, 0, 0, 0, 0, 0], [0, 0, 0, 0, 0, 0, 0, 0, 0, 0, 0, 0, 0, 0, 0, 0, 0, 0, 0, 0, 0, 0, 0, 0, 0, 0, 0, 0, 0, 0], [0, 0, 0, 0, 0, 0, 0, 0, 0, 0, 0, 0, 0, 0, 0, 0, 0, 0, 0, 0, 0, 0, 0, 0, 0, 0, 0, 0, 0, 0], [0, 0, 0, 0, 0, 0, 0, 0, 0, 0, 0, 0, 0, 0, 0, 0, 0, 0, 0, 0, 0, 0, 0, 0, 0, 0, 0, 0, 0, 0], [0, 0, 0, 0, 0, 0, 0, 0, 0, 0, 0, 0, 0, 0, 0, 0, 0, 0, 0, 0, 0, 0, 0, 0, 0, 0, 0, 0, 0, 0], [0, 0, 0, 0, 0, 0, 0, 0, 0, 0, 0, 0, 0, 0, 0, 0, 0, 0, 0, 0, 0, 0, 0, 0, 0, 0, 0, 0, 0, 0], [0, 0, 0, 0, 0, 0, 0, 0, 0, 0, 0, 0, 0, 0, 0, 0, 0, 0, 0, 0, 0, 0, 0, 0, 0, 0, 0, 0, 0, 0], [0, 0, 0, 0, 0, 0, 0, 0, 0, 0, 0, 0, 0, 0, 0, 0, 0, 0, 0, 0, 0, 0, 0, 0, 0, 0, 0, 0, 0, 0], [0, 0, 0, 0, 0, 0, 0, 0, 0, 0, 0, 0, 0, 0, 0, 0, 0, 0, 1, 1, 0, 0, 0, 0, 0, 0, 0, 0, 0, 0], [0, 0, 0, 0, 0, 0, 0, 0, 0, 0, 0, 0, 0, 0, 0, 1, 1, 0, 1, 0, 0, 0, 0, 0, 0, 0, 0, 0, 0, 0], [0, 0, 0, 0, 0, 0, 0, 0, 0, 0, 0, 0, 0, 0, 0, 0, 0, 0, 0, 0, 0, 0, 0, 0, 0, 0, 0, 0, 0, 0], [0, 0, 0, 0, 0, 0, 0, 0, 0, 0, 0, 0, 0, 0, 0, 1, 1, 0, 1, 0, 0, 0, 0, 0, 0, 0, 0, 0, 0, 0], [0, 0, 0, 0, 0, 0, 0, 0, 0, 0, 0, 0, 0, 0, 0, 0, 0, 0, 1, 1, 0, 0, 0, 0, 0, 0, 0, 0, 0, 0], [0, 0, 0, 0, 0, 0, 0, 0, 0, 0, 0, 0, 0, 0, 0, 0, 0, 0, 0, 0, 0, 0, 0, 0, 0, 0, 0, 0, 0, 0], [0, 0, 0, 0, 0, 0, 0, 0, 0, 0, 0, 0, 0, 0, 0, 0, 0, 0, 0, 0, 0, 0, 0, 0, 0, 0, 0, 0, 0, 0], [0, 0, 0, 0, 0, 0, 0, 0, 0, 0, 0, 0, 0, 0, 0, 0, 0, 0, 0, 0, 0, 0, 0, 0, 0, 0, 0, 0, 0, 0], [0, 0, 0, 0, 0, 0, 0, 0, 0, 0, 0, 0, 0, 0, 0, 0, 0, 0, 0, 0, 0, 0, 0, 0, 0, 0, 0, 0, 0, 0], [0, 0, 0, 0, 0, 0, 0, 0, 0, 0, 0, 0, 0, 0, 0, 0, 0, 0, 0, 0, 0, 0, 0, 0, 0, 0, 0, 0, 0, 0], [0, 0, 0, 0, 0, 0, 0, 0, 0, 0, 0, 0, 0, 0, 0, 0, 0, 0, 0, 0, 0, 0, 0, 0, 0, 0, 0, 0, 0, 0], [0, 0, 0, 0, 0, 0, 0, 0, 0, 0, 0, 0, 0, 0, 0, 0, 0, 0, 0, 0, 0, 0, 0, 0, 0, 0, 0, 0, 0, 0], [0, 0, 0, 0, 0, 0, 0, 0, 0, 0, 0, 0, 0, 0, 0, 0, 0, 0, 0, 0, 0, 0, 0, 0, 0, 0, 0, 0, 0, 0], [0, 0, 0, 0, 0, 0, 0, 0, 0, 0, 0, 0, 0, 0, 0, 0, 0, 0, 0, 0, 0, 0, 0, 0, 0, 0, 0, 0, 0, 0], [0, 0, 0, 0, 0, 0, 0, 0, 0, 0, 0, 0, 0, 0, 0, 0, 0, 0, 0, 0, 0, 0, 0, 0, 0, 0, 0, 0, 0, 0]]\n"
          ]
        },
        {
          "output_type": "display_data",
          "data": {
            "text/plain": [
              "<Figure size 640x480 with 1 Axes>"
            ],
            "image/png": "[encoded data removed]"
          },
          "metadata": {}
        }
      ]
    },
    {
      "cell_type": "code",
      "source": [
        "import matplotlib.pyplot as plt\n",
        "import numpy as np\n",
        "\n",
        "x = np.random.random(30)\n",
        "y = np.random.random(30)\n",
        "\n",
        "plt.scatter(x,y)"
      ],
      "metadata": {
        "colab": {
          "base_uri": "https://localhost:8080/",
          "height": 447
        },
        "id": "LPtFd1XVwFUU",
        "outputId": "3059508b-6b48-4ea5-baba-b0e63994a311"
      },
      "id": "LPtFd1XVwFUU",
      "execution_count": null,
      "outputs": [
        {
          "output_type": "execute_result",
          "data": {
            "text/plain": [
              "<matplotlib.collections.PathCollection at 0x79c6f3e22fb0>"
            ]
          },
          "metadata": {},
          "execution_count": 5
        },
        {
          "output_type": "display_data",
          "data": {
            "text/plain": [
              "<Figure size 640x480 with 1 Axes>"
            ],
            "image/png": "[encoded data removed]"
          },
          "metadata": {}
        }
      ]
    },
    {
      "cell_type": "code",
      "source": [
        "ab = [[0,1,0],\n",
        "      [0,1,6],\n",
        "      [7,8,9]]\n",
        "\n",
        "ac =  [['NW','N','NE'],\n",
        "      ['E','C','W'],\n",
        "      ['SW','S','SE']]\n",
        "\n",
        "print(ab[-1][-1], '= SE,',\n",
        "      ab[0][-1],  '= NE,',\n",
        "      ab[-1][0],  '= SW,',\n",
        "      ab[0][0],   '= NW,',\n",
        "      ab[1][0],   '= W,',\n",
        "      ab[0][1],   '= N,',\n",
        "      ab[1][-1],  '= E,',\n",
        "      ab[-1][1],  '= S,'\n",
        "      )\n"
      ],
      "metadata": {
        "id": "8bT389Sh4dIV",
        "colab": {
          "base_uri": "https://localhost:8080/"
        },
        "outputId": "2618d792-b6f6-48cc-f220-0323658aa945"
      },
      "id": "8bT389Sh4dIV",
      "execution_count": null,
      "outputs": [
        {
          "output_type": "stream",
          "name": "stdout",
          "text": [
            "9 = SE, 0 = NE, 7 = SW, 0 = NW, 0 = W, 1 = N, 6 = E, 8 = S,\n"
          ]
        }
      ]
    }
  ],
  "metadata": {
    "kernelspec": {
      "display_name": "Python 3 (ipykernel)",
      "language": "python",
      "name": "python3"
    },
    "language_info": {
      "codemirror_mode": {
        "name": "ipython",
        "version": 3
      },
      "file_extension": ".py",
      "mimetype": "text/x-python",
      "name": "python",
      "nbconvert_exporter": "python",
      "pygments_lexer": "ipython3",
      "version": "3.8.8"
    },
    "colab": {
      "provenance": [],
      "include_colab_link": true
    }
  },
  "nbformat": 4,
  "nbformat_minor": 5
}